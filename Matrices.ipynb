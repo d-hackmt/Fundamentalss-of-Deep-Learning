{
  "nbformat": 4,
  "nbformat_minor": 0,
  "metadata": {
    "colab": {
      "provenance": [],
      "authorship_tag": "ABX9TyPNg5tgwlm9mBG0tcuLkSpW",
      "include_colab_link": true
    },
    "kernelspec": {
      "name": "python3",
      "display_name": "Python 3"
    },
    "language_info": {
      "name": "python"
    }
  },
  "cells": [
    {
      "cell_type": "markdown",
      "metadata": {
        "id": "view-in-github",
        "colab_type": "text"
      },
      "source": [
        "<a href=\"https://colab.research.google.com/github/d-hackmt/Fundamentalss-of-Deep-Learning/blob/main/Matrices.ipynb\" target=\"_parent\"><img src=\"https://colab.research.google.com/assets/colab-badge.svg\" alt=\"Open In Colab\"/></a>"
      ]
    },
    {
      "cell_type": "code",
      "execution_count": null,
      "metadata": {
        "id": "SdlAitJrU18F"
      },
      "outputs": [],
      "source": [
        "import numpy as np"
      ]
    },
    {
      "cell_type": "code",
      "source": [
        "revenue = np.array([[180,200,220],[24,36,40],[12,18,20]])\n",
        "expenses = np.array([[80,90,100],[10,16,20],[8,10,10]])\n",
        "revenue,expenses"
      ],
      "metadata": {
        "colab": {
          "base_uri": "https://localhost:8080/"
        },
        "id": "G17iHDUff1E2",
        "outputId": "f2c88bd9-5b14-46f0-c784-7cbeb5e00c73"
      },
      "execution_count": null,
      "outputs": [
        {
          "output_type": "execute_result",
          "data": {
            "text/plain": [
              "(array([[180, 200, 220],\n",
              "        [ 24,  36,  40],\n",
              "        [ 12,  18,  20]]), array([[ 80,  90, 100],\n",
              "        [ 10,  16,  20],\n",
              "        [  8,  10,  10]]))"
            ]
          },
          "metadata": {},
          "execution_count": 9
        }
      ]
    },
    {
      "cell_type": "code",
      "source": [
        "revenue.shape , expenses.shape"
      ],
      "metadata": {
        "colab": {
          "base_uri": "https://localhost:8080/"
        },
        "id": "OL5htRKLgRZm",
        "outputId": "9426e0db-0958-40e1-d78d-c1159f4375ea"
      },
      "execution_count": null,
      "outputs": [
        {
          "output_type": "execute_result",
          "data": {
            "text/plain": [
              "((3, 3), (3, 3))"
            ]
          },
          "metadata": {},
          "execution_count": 3
        }
      ]
    },
    {
      "cell_type": "code",
      "source": [
        "profit = revenue - expenses\n",
        "profit"
      ],
      "metadata": {
        "colab": {
          "base_uri": "https://localhost:8080/"
        },
        "id": "bO1WyYItgXAd",
        "outputId": "02a7a476-4475-40d1-af42-83eb2efa4ee2"
      },
      "execution_count": null,
      "outputs": [
        {
          "output_type": "execute_result",
          "data": {
            "text/plain": [
              "array([[100, 110, 120],\n",
              "       [ 14,  20,  20],\n",
              "       [  4,   8,  10]])"
            ]
          },
          "metadata": {},
          "execution_count": 5
        }
      ]
    },
    {
      "cell_type": "code",
      "source": [
        "price_per_unit = np.array([1000 , 400 , 1200])\n",
        "units = np.array([[30,40,50],[5,10,15],[2,5,7]])\n",
        "price_per_unit , units"
      ],
      "metadata": {
        "colab": {
          "base_uri": "https://localhost:8080/"
        },
        "id": "m-dHd_yogdBX",
        "outputId": "bf1e6926-4a2d-4c37-affc-e026fb1af3b3"
      },
      "execution_count": null,
      "outputs": [
        {
          "output_type": "execute_result",
          "data": {
            "text/plain": [
              "(array([1000,  400, 1200]), array([[30, 40, 50],\n",
              "        [ 5, 10, 15],\n",
              "        [ 2,  5,  7]]))"
            ]
          },
          "metadata": {},
          "execution_count": 10
        }
      ]
    },
    {
      "cell_type": "code",
      "source": [
        "sales = price_per_unit * units   \n",
        "sales\n",
        "# Now here we know its wrong and we cant multiply like this in matrices but here \n",
        "# this what happened was broadcasting "
      ],
      "metadata": {
        "colab": {
          "base_uri": "https://localhost:8080/"
        },
        "id": "f0IFcRNThXel",
        "outputId": "dcbe48ef-009a-4821-bebc-cd4cba991041"
      },
      "execution_count": null,
      "outputs": [
        {
          "output_type": "execute_result",
          "data": {
            "text/plain": [
              "array([[30000, 16000, 60000],\n",
              "       [ 5000,  4000, 18000],\n",
              "       [ 2000,  2000,  8400]])"
            ]
          },
          "metadata": {},
          "execution_count": 12
        }
      ]
    },
    {
      "cell_type": "markdown",
      "source": [
        "is a shape of 2 matrix is not same it will try to expand it \n",
        "so it multiplied it as if\n",
        "\n",
        "price_per_unit = np.array([[1000 , 400 , 1200] ,[1000 , 400 , 1200],[1000 , 400 , 1200]] ) "
      ],
      "metadata": {
        "id": "4iqkjlDWiCW3"
      }
    },
    {
      "cell_type": "code",
      "source": [
        "#so now we do it right using dot product\n",
        "\n",
        "total_sales = np.dot(price_per_unit , units)\n",
        "\n",
        "total_sales"
      ],
      "metadata": {
        "colab": {
          "base_uri": "https://localhost:8080/"
        },
        "id": "akrnumwbhmFi",
        "outputId": "8f4092f6-2726-4b89-dced-3424dde5fb44"
      },
      "execution_count": null,
      "outputs": [
        {
          "output_type": "execute_result",
          "data": {
            "text/plain": [
              "array([34400, 50000, 64400])"
            ]
          },
          "metadata": {},
          "execution_count": 14
        }
      ]
    },
    {
      "cell_type": "markdown",
      "source": [
        "## LETS PRACTICE\n",
        "\n",
        "A problem to convert all us dollars into inr\n",
        "\n",
        " Convert USD revenues to INR"
      ],
      "metadata": {
        "id": "GK9_J7CnjYy3"
      }
    },
    {
      "cell_type": "code",
      "source": [
        "import numpy as np"
      ],
      "metadata": {
        "id": "YZlxWmAuiv5i"
      },
      "execution_count": null,
      "outputs": []
    },
    {
      "cell_type": "code",
      "source": [
        "revenues_usd = np.array([[200,220,250],[68,79,105],[110,140,180],[80,85,90]])\n",
        "revenues_inr = 75*revenues_usd\n",
        "revenues_inr"
      ],
      "metadata": {
        "colab": {
          "base_uri": "https://localhost:8080/"
        },
        "id": "Bkcy8M4Jjp8A",
        "outputId": "1b46957e-7270-410d-b151-6afbeff0d02d"
      },
      "execution_count": null,
      "outputs": [
        {
          "output_type": "execute_result",
          "data": {
            "text/plain": [
              "array([[15000, 16500, 18750],\n",
              "       [ 5100,  5925,  7875],\n",
              "       [ 8250, 10500, 13500],\n",
              "       [ 6000,  6375,  6750]])"
            ]
          },
          "metadata": {},
          "execution_count": 16
        }
      ]
    },
    {
      "cell_type": "markdown",
      "source": [
        "Calculate total flowers sale every month for divine flowers shop"
      ],
      "metadata": {
        "id": "SZBduonLj8nF"
      }
    },
    {
      "cell_type": "code",
      "source": [
        "units_sold = np.array([[50,60,25],[10,13,5],[40,70,52]])\n",
        "price_per_unit = np.array([20,30,15])"
      ],
      "metadata": {
        "id": "Zqs395Fqj8VT"
      },
      "execution_count": null,
      "outputs": []
    },
    {
      "cell_type": "code",
      "source": [
        "sales = np.dot(price_per_unit ,units_sold )"
      ],
      "metadata": {
        "id": "PG_Z4Ol6j1U2"
      },
      "execution_count": null,
      "outputs": []
    },
    {
      "cell_type": "code",
      "source": [
        "sales"
      ],
      "metadata": {
        "colab": {
          "base_uri": "https://localhost:8080/"
        },
        "id": "R5N_6SUnkMPO",
        "outputId": "b63834b1-3518-406c-806e-e9cc023c90e2"
      },
      "execution_count": null,
      "outputs": [
        {
          "output_type": "execute_result",
          "data": {
            "text/plain": [
              "array([1900, 2640, 1430])"
            ]
          },
          "metadata": {},
          "execution_count": 19
        }
      ]
    },
    {
      "cell_type": "code",
      "source": [],
      "metadata": {
        "id": "Hgu-8GLikMyt"
      },
      "execution_count": null,
      "outputs": []
    }
  ]
}