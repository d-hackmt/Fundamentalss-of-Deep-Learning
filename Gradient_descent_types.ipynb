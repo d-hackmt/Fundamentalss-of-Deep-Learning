{
  "nbformat": 4,
  "nbformat_minor": 0,
  "metadata": {
    "colab": {
      "provenance": [],
      "authorship_tag": "ABX9TyPovo7HtCDZU1KHkd9i74Ld",
      "include_colab_link": true
    },
    "kernelspec": {
      "name": "python3",
      "display_name": "Python 3"
    },
    "language_info": {
      "name": "python"
    }
  },
  "cells": [
    {
      "cell_type": "markdown",
      "metadata": {
        "id": "view-in-github",
        "colab_type": "text"
      },
      "source": [
        "<a href=\"https://colab.research.google.com/github/d-hackmt/Fundamentalss-of-Deep-Learning/blob/main/Gradient_descent_types.ipynb\" target=\"_parent\"><img src=\"https://colab.research.google.com/assets/colab-badge.svg\" alt=\"Open In Colab\"/></a>"
      ]
    },
    {
      "cell_type": "markdown",
      "source": [
        "BATCH GRADIENT DESCENT\n",
        "1. We go through all training samples and calculate cumilative error \n",
        "2. Now we back propagate and adjust weights .\n",
        "\n",
        "   ORR\n",
        "\n",
        "1) Use all training samples for one forward pass and then adjust weights .\n",
        "\n",
        "2) Good for small training set"
      ],
      "metadata": {
        "id": "o5F1lfD3_9Ue"
      }
    },
    {
      "cell_type": "markdown",
      "source": [
        "Stochastic Gradient descent\n",
        "\n",
        "1. Use one randomly picked sample for a forward pass and then adjust weights .\n",
        "2. Good when training set is very big and we dont want too much computation . "
      ],
      "metadata": {
        "id": "AMZaGfPhAyy6"
      }
    },
    {
      "cell_type": "code",
      "execution_count": null,
      "metadata": {
        "id": "6QRXHCUF--b0"
      },
      "outputs": [],
      "source": []
    }
  ]
}