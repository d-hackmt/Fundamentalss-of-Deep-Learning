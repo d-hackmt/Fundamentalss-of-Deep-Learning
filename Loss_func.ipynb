{
  "nbformat": 4,
  "nbformat_minor": 0,
  "metadata": {
    "colab": {
      "provenance": [],
      "authorship_tag": "ABX9TyOb3vJY6DVgaXZo3h6LBwgW",
      "include_colab_link": true
    },
    "kernelspec": {
      "name": "python3",
      "display_name": "Python 3"
    },
    "language_info": {
      "name": "python"
    }
  },
  "cells": [
    {
      "cell_type": "markdown",
      "metadata": {
        "id": "view-in-github",
        "colab_type": "text"
      },
      "source": [
        "<a href=\"https://colab.research.google.com/github/d-hackmt/Fundamentalss-of-Deep-Learning/blob/main/Loss_func.ipynb\" target=\"_parent\"><img src=\"https://colab.research.google.com/assets/colab-badge.svg\" alt=\"Open In Colab\"/></a>"
      ]
    },
    {
      "cell_type": "markdown",
      "source": [
        "Loss function is used for neural network training"
      ],
      "metadata": {
        "id": "FDrb1wXHtZv4"
      }
    },
    {
      "cell_type": "code",
      "source": [
        "import numpy as np"
      ],
      "metadata": {
        "id": "fkvGNmFktZFb"
      },
      "execution_count": null,
      "outputs": []
    },
    {
      "cell_type": "code",
      "execution_count": null,
      "metadata": {
        "id": "CnpegSxSpLTQ"
      },
      "outputs": [],
      "source": [
        "y_pred = np.array([1,1,0,0,1])\n",
        "y_true = np.array([0.30,0.7,1,0,0.5])\n"
      ]
    },
    {
      "cell_type": "markdown",
      "source": [
        "Mean ABsolute error is nothing but your absolute difference between true value and predicted value and the average of that"
      ],
      "metadata": {
        "id": "9h5Czn46uPCg"
      }
    },
    {
      "cell_type": "code",
      "source": [
        "def mae(y_true , y_pred):\n",
        "  total_error = 0\n",
        "  # how do you run for loop parallely on 2 array,zip will give one value of oth these array in each iteration\n",
        "\n",
        "  for yt ,yp in zip(y_true , y_pred):\n",
        "    #print(yt , yp)\n",
        "    total_error += abs(yt-yp)\n",
        "  print(\"Total errror =\" , total_error)\n",
        "  mae = total_error / len(y_true)\n",
        "  print(\"Mae =\" , mae)\n",
        "  return mae\n"
      ],
      "metadata": {
        "id": "IiRLCPO2tvTy"
      },
      "execution_count": null,
      "outputs": []
    },
    {
      "cell_type": "code",
      "source": [
        "mae(y_true , y_pred)"
      ],
      "metadata": {
        "colab": {
          "base_uri": "https://localhost:8080/"
        },
        "id": "uwL9nTv0u25Y",
        "outputId": "f04fe63b-fb65-4b7f-b6c8-9b3af5a4cc5e"
      },
      "execution_count": null,
      "outputs": [
        {
          "output_type": "stream",
          "name": "stdout",
          "text": [
            "Total errror = 2.5\n",
            "Mae = 0.5\n"
          ]
        },
        {
          "output_type": "execute_result",
          "data": {
            "text/plain": [
              "0.5"
            ]
          },
          "metadata": {},
          "execution_count": 10
        }
      ]
    },
    {
      "cell_type": "code",
      "source": [
        "y_pred - y_true"
      ],
      "metadata": {
        "colab": {
          "base_uri": "https://localhost:8080/"
        },
        "id": "uyD_9s-Ju7PQ",
        "outputId": "694d0b90-eab1-476f-e9fa-409f13b8778d"
      },
      "execution_count": null,
      "outputs": [
        {
          "output_type": "execute_result",
          "data": {
            "text/plain": [
              "array([ 0.7,  0.3, -1. ,  0. ,  0.5])"
            ]
          },
          "metadata": {},
          "execution_count": 11
        }
      ]
    },
    {
      "cell_type": "code",
      "source": [
        "abs = np.abs (y_pred - y_true)"
      ],
      "metadata": {
        "colab": {
          "base_uri": "https://localhost:8080/"
        },
        "id": "Ge7tZd3Qwgpx",
        "outputId": "52ff9806-b636-4eb0-809e-79d16b580d75"
      },
      "execution_count": null,
      "outputs": [
        {
          "output_type": "execute_result",
          "data": {
            "text/plain": [
              "array([0.7, 0.3, 1. , 0. , 0.5])"
            ]
          },
          "metadata": {},
          "execution_count": 13
        }
      ]
    },
    {
      "cell_type": "code",
      "source": [
        " # all above function in one line \n",
        " #power of numpy\n",
        " \n",
        "meanabs=  np.mean(np.abs (y_pred - y_true))\n",
        "meanabs"
      ],
      "metadata": {
        "colab": {
          "base_uri": "https://localhost:8080/"
        },
        "id": "gC4xjHnzwk9r",
        "outputId": "036b6cf5-7f2c-44e5-c148-5948c5b07e25"
      },
      "execution_count": null,
      "outputs": [
        {
          "output_type": "execute_result",
          "data": {
            "text/plain": [
              "0.5"
            ]
          },
          "metadata": {},
          "execution_count": 17
        }
      ]
    },
    {
      "cell_type": "markdown",
      "source": [
        "Implement Log Loss or Binary Cross Entropy"
      ],
      "metadata": {
        "id": "-xNmoI_j2IsZ"
      }
    },
    {
      "cell_type": "markdown",
      "source": [
        "note here everytime i have wrote eplison is EPSILON"
      ],
      "metadata": {
        "id": "u1mswgO63Fwq"
      }
    },
    {
      "cell_type": "code",
      "source": [
        "np.log([0])"
      ],
      "metadata": {
        "colab": {
          "base_uri": "https://localhost:8080/"
        },
        "id": "rMRnkpZj2NJ8",
        "outputId": "d0c74836-1747-4e41-de0a-00d7c08fbe4d"
      },
      "execution_count": null,
      "outputs": [
        {
          "output_type": "stream",
          "name": "stderr",
          "text": [
            "<ipython-input-39-faee82fd9f21>:1: RuntimeWarning: divide by zero encountered in log\n",
            "  np.log([0])\n"
          ]
        },
        {
          "output_type": "execute_result",
          "data": {
            "text/plain": [
              "array([-inf])"
            ]
          },
          "metadata": {},
          "execution_count": 39
        }
      ]
    },
    {
      "cell_type": "code",
      "source": [
        "# log 0 is undefined\n",
        "# to deal with this we have to do the following\n",
        "\n",
        "# we have to replace the value of 0 by closest number to 0\n",
        "# eplison\n",
        "\n",
        "eplison = 1e-15   # (e raise to -15 hai wo)\n",
        "np.log([1e-15])\n"
      ],
      "metadata": {
        "colab": {
          "base_uri": "https://localhost:8080/"
        },
        "id": "UkgOVO52wz4e",
        "outputId": "add1c033-d18e-4daf-d9ec-84215527980f"
      },
      "execution_count": null,
      "outputs": [
        {
          "output_type": "execute_result",
          "data": {
            "text/plain": [
              "array([-34.53877639])"
            ]
          },
          "metadata": {},
          "execution_count": 40
        }
      ]
    },
    {
      "cell_type": "code",
      "source": [
        "y_pred"
      ],
      "metadata": {
        "colab": {
          "base_uri": "https://localhost:8080/"
        },
        "id": "L6xQEtQJxzu3",
        "outputId": "e3d9a839-f0ce-4c52-e9db-83b60a444369"
      },
      "execution_count": null,
      "outputs": [
        {
          "output_type": "execute_result",
          "data": {
            "text/plain": [
              "array([1, 1, 0, 0, 1])"
            ]
          },
          "metadata": {},
          "execution_count": 20
        }
      ]
    },
    {
      "cell_type": "code",
      "source": [
        "y_pred_new = [max(i , eplison )for i in y_pred]        #list comprehension   each i is each value in ypred and we want an max between i and eplison\n",
        "y_pred_new"
      ],
      "metadata": {
        "colab": {
          "base_uri": "https://localhost:8080/"
        },
        "id": "rs6kmmQJx4Kw",
        "outputId": "f35d4556-0809-4329-e0a2-65e3166b3ccf"
      },
      "execution_count": null,
      "outputs": [
        {
          "output_type": "execute_result",
          "data": {
            "text/plain": [
              "[1, 1, 1e-15, 1e-15, 1]"
            ]
          },
          "metadata": {},
          "execution_count": 25
        }
      ]
    },
    {
      "cell_type": "code",
      "source": [
        "1-eplison"
      ],
      "metadata": {
        "colab": {
          "base_uri": "https://localhost:8080/"
        },
        "id": "_1Z0arwC2imt",
        "outputId": "4e19ba8c-d88a-4267-e18c-454b76e78647"
      },
      "execution_count": null,
      "outputs": [
        {
          "output_type": "execute_result",
          "data": {
            "text/plain": [
              "0.999999999999999"
            ]
          },
          "metadata": {},
          "execution_count": 41
        }
      ]
    },
    {
      "cell_type": "code",
      "source": [
        "y_pred_new = [min(i,1-eplison) for i in y_pred_new]\n",
        "y_pred_new"
      ],
      "metadata": {
        "colab": {
          "base_uri": "https://localhost:8080/"
        },
        "id": "gLPLDjuoyd3D",
        "outputId": "9f7570a8-f7a6-4e56-ef62-60a110a787de"
      },
      "execution_count": null,
      "outputs": [
        {
          "output_type": "execute_result",
          "data": {
            "text/plain": [
              "[0.999999999999999, 0.999999999999999, 0.0, 0.0, 0.999999999999999]"
            ]
          },
          "metadata": {},
          "execution_count": 42
        }
      ]
    },
    {
      "cell_type": "code",
      "source": [
        "y_pred_new = np.array(y_pred_new)"
      ],
      "metadata": {
        "id": "_tmmtNVpy7PW"
      },
      "execution_count": null,
      "outputs": []
    },
    {
      "cell_type": "code",
      "source": [
        "np.log(y_pred_new)"
      ],
      "metadata": {
        "colab": {
          "base_uri": "https://localhost:8080/"
        },
        "id": "AHrK5r4V0K36",
        "outputId": "4fced5f3-8e91-4a48-9548-3db7cc1b14cc"
      },
      "execution_count": null,
      "outputs": [
        {
          "output_type": "stream",
          "name": "stderr",
          "text": [
            "<ipython-input-45-a3436cf2b2dd>:1: RuntimeWarning: divide by zero encountered in log\n",
            "  np.log(y_pred_new)\n"
          ]
        },
        {
          "output_type": "execute_result",
          "data": {
            "text/plain": [
              "array([-9.99200722e-16, -9.99200722e-16,            -inf,            -inf,\n",
              "       -9.99200722e-16])"
            ]
          },
          "metadata": {},
          "execution_count": 45
        }
      ]
    },
    {
      "cell_type": "code",
      "source": [
        "-np.mean(y_true*np.log(y_pred_new)+(1-y_true)*np.log(1-y_pred_new))"
      ],
      "metadata": {
        "colab": {
          "base_uri": "https://localhost:8080/"
        },
        "id": "EHak5HQc0Nwe",
        "outputId": "d2f87c8e-11a8-495a-e3eb-092a0c67f759"
      },
      "execution_count": null,
      "outputs": [
        {
          "output_type": "stream",
          "name": "stderr",
          "text": [
            "<ipython-input-46-7b1793610236>:1: RuntimeWarning: divide by zero encountered in log\n",
            "  -np.mean(y_true*np.log(y_pred_new)+(1-y_true)*np.log(1-y_pred_new))\n",
            "<ipython-input-46-7b1793610236>:1: RuntimeWarning: invalid value encountered in multiply\n",
            "  -np.mean(y_true*np.log(y_pred_new)+(1-y_true)*np.log(1-y_pred_new))\n"
          ]
        },
        {
          "output_type": "execute_result",
          "data": {
            "text/plain": [
              "nan"
            ]
          },
          "metadata": {},
          "execution_count": 46
        }
      ]
    },
    {
      "cell_type": "code",
      "source": [
        "def log_loss(y_true, y_predicted):\n",
        "    y_predicted_new = [max(i,eplison) for i in y_predicted]\n",
        "    y_predicted_new = [min(i,1-eplison) for i in y_predicted_new]\n",
        "    y_predicted_new = np.array(y_predicted_new)\n",
        "    return -np.mean(y_true*np.log(y_predicted_new)+(1-y_true)*np.log(1-y_predicted_new))"
      ],
      "metadata": {
        "id": "m9C8huLu1Er5"
      },
      "execution_count": null,
      "outputs": []
    },
    {
      "cell_type": "code",
      "source": [
        "log_loss(y_true , y_pred)"
      ],
      "metadata": {
        "colab": {
          "base_uri": "https://localhost:8080/"
        },
        "id": "f7wXb4421qMy",
        "outputId": "fe5f9282-2fbe-45b1-8840-6c1f2801721b"
      },
      "execution_count": null,
      "outputs": [
        {
          "output_type": "execute_result",
          "data": {
            "text/plain": [
              "17.2696280766844"
            ]
          },
          "metadata": {},
          "execution_count": 37
        }
      ]
    },
    {
      "cell_type": "markdown",
      "source": [
        "Loss function practice\n",
        "\n",
        "Implement Mean Squared Error Function In Python\n",
        "\n",
        "You need to implement mean squared error function first without using numpy and then using numpy"
      ],
      "metadata": {
        "id": "3CFOCPLj3Qwm"
      }
    },
    {
      "cell_type": "markdown",
      "source": [
        "Without using numpy"
      ],
      "metadata": {
        "id": "VRoUUHVq3fJY"
      }
    },
    {
      "cell_type": "code",
      "source": [
        "import numpy as np\n",
        "\n",
        "y_predicted = np.array([1,1,0,0,1])\n",
        "y_true = np.array([0.30,0.7,1,0,0.5])"
      ],
      "metadata": {
        "id": "QT_Y66pI1vSu"
      },
      "execution_count": null,
      "outputs": []
    },
    {
      "cell_type": "code",
      "source": [
        "def mse(y_true , y_predicted):\n",
        "  total_error = 0\n",
        "  for yt, yp in zip(y_true , y_predicted):\n",
        "    total_error += (yt - yp)**2\n",
        "  print(\"Total squared error\",total_error)\n",
        "  mse = total_error / len(y_true)\n",
        "  print(\"Mean absolute Error \", mse)\n",
        "  return mse"
      ],
      "metadata": {
        "id": "y-IUz9vb3ngX"
      },
      "execution_count": null,
      "outputs": []
    },
    {
      "cell_type": "code",
      "source": [
        "mse(y_true , y_predicted)"
      ],
      "metadata": {
        "colab": {
          "base_uri": "https://localhost:8080/"
        },
        "id": "C8VzeuBF5aen",
        "outputId": "4b164abd-31a6-4cd6-9b87-44e1559f91bf"
      },
      "execution_count": null,
      "outputs": [
        {
          "output_type": "stream",
          "name": "stdout",
          "text": [
            "Total squared error 1.83\n",
            "Mean absolute Error  0.366\n"
          ]
        },
        {
          "output_type": "execute_result",
          "data": {
            "text/plain": [
              "0.366"
            ]
          },
          "metadata": {},
          "execution_count": 49
        }
      ]
    },
    {
      "cell_type": "markdown",
      "source": [
        "WIth numpy"
      ],
      "metadata": {
        "id": "5NvKWKaT5hQg"
      }
    },
    {
      "cell_type": "code",
      "source": [
        "np.mean(np.square(y_true - y_predicted))"
      ],
      "metadata": {
        "colab": {
          "base_uri": "https://localhost:8080/"
        },
        "id": "VKFAztBG5fi7",
        "outputId": "1163cd80-d9c7-485a-920e-17f9436f1b8a"
      },
      "execution_count": null,
      "outputs": [
        {
          "output_type": "execute_result",
          "data": {
            "text/plain": [
              "0.366"
            ]
          },
          "metadata": {},
          "execution_count": 50
        }
      ]
    },
    {
      "cell_type": "code",
      "source": [],
      "metadata": {
        "id": "RMQIQ4h15qlH"
      },
      "execution_count": null,
      "outputs": []
    }
  ]
}